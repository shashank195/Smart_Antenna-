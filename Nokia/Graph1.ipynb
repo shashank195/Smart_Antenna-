import matplotlib
import matplotlib.pyplot as plt
import numpy as np
from scipy.interpolate import *

x1 = np.array([0, 0.5, 1, 2, 2.3])
y1 = np.array([0, 1.5, 3, 6, 8])
plt.plot(x1, y1)

x2 = np.array([0, 1, 2, 3, 4])
y2 = np.array([0, 2, 4, 6, 9])
plt.plot(x2, y2)

x3 = np.array([0, 1, 2, 3, 4])
y3 = np.array([0, 1.75, 3.75, 5.75, 8.75])
plt.plot(x3, y3)

ax.set(xlabel='time (s)', ylabel='voltage (mV)',
       title='About as simple as it gets, folks')
ax.grid()

fig.savefig("test.png")
plt.show()
