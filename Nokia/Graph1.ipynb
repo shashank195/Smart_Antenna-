import matplotlib
import matplotlib.pyplot as plt
import numpy as np
from scipy.interpolate import *

x = np.array([1, 2, 3, 4])
y = np.array([75, 0, 25, 100])
plt.plot(x, y)

x_new = np.linspace(1, 4, 300)
a_BSpline = interpolate.make_interp_spline(x, y)
y_new = a_BSpline(x_new)

plt.plot(x_new, y_new)

ax.set(xlabel='time (s)', ylabel='voltage (mV)',
       title='About as simple as it gets, folks')
ax.grid()

fig.savefig("test.png")
plt.show()
